{
 "cells": [
  {
   "cell_type": "code",
   "execution_count": 1,
   "metadata": {},
   "outputs": [],
   "source": [
    "from sklearn.linear_model import LogisticRegression\n",
    "from sklearn.preprocessing import MinMaxScaler\n",
    "from sklearn.metrics import classification_report, confusion_matrix\n",
    "import numpy as np\n",
    "import pandas as pd\n",
    "import json\n",
    "\n",
    "import matplotlib.pyplot as plt\n",
    "from matplotlib import cm\n",
    "import seaborn as sns"
   ]
  },
  {
   "cell_type": "markdown",
   "metadata": {},
   "source": [
    "## Data Preprocessing and Feature Engineering"
   ]
  },
  {
   "cell_type": "markdown",
   "metadata": {},
   "source": [
    "### Splitting the dataframe\n",
    "To split the dataframe into the `X_train` and `X_eval` dataframes based off whether the value in the `\"evaluation set\"` column is $0.0$ or $1.0$, we will import the `\"data/kickstarter.csv\"` dataframe and implement a function, `train_eval_split`, that does just that."
   ]
  },
  {
   "cell_type": "code",
   "execution_count": 2,
   "metadata": {},
   "outputs": [],
   "source": [
    "df = pd.read_csv(\"data/kickstarter.csv\")"
   ]
  },
  {
   "cell_type": "code",
   "execution_count": 3,
   "metadata": {},
   "outputs": [],
   "source": [
    "def train_eval_split(df):\n",
    "    \n",
    "    \"\"\"\n",
    "    Splits the dataframe into two dataframes, X_train and X_eval, depending on\n",
    "    whether the value in the 'evaluation_set' column is 0.0 or 1.0.\n",
    "    \"\"\"\n",
    "    \n",
    "    df_copy = df.copy()\n",
    "    \n",
    "    evaluate_mask = df_copy['evaluation_set']\n",
    "    \n",
    "    X_eval = df_copy.loc[evaluate_mask].iloc[:, :-1]\n",
    "    X_train = df_copy.loc[~evaluate_mask].iloc[:, :-1]\n",
    "    \n",
    "    return X_train, X_eval\n",
    "\n",
    "X_train, X_eval = train_eval_split(df)"
   ]
  },
  {
   "cell_type": "markdown",
   "metadata": {},
   "source": [
    "### Determining the importance of a column with discrete values to a project's success\n",
    "To determine whether a column with discrete values is of importance to a project's success, we will implement a function, named `get_success_rates` to return a dictionary describing the proportion of projects that succeeded when the value in that column was each of discrete values specified."
   ]
  },
  {
   "cell_type": "code",
   "execution_count": 58,
   "metadata": {},
   "outputs": [],
   "source": [
    "def get_success_rates(df, column, options=None, success_column='state'):\n",
    "    \n",
    "    \"\"\"\n",
    "    Returns a dictionary with the keys being the values that a column can take and the corresponding\n",
    "    values being the proportion of projects with that value in that column that succeeded.\n",
    "    \n",
    "    If the options parameter (a list of the column's possible values) is left blank, it defaults\n",
    "    to a list of unique values in that column\n",
    "    \n",
    "    Useful for deciding whether a column considerably changes the probability of a project's success.\n",
    "    \"\"\"\n",
    "    \n",
    "    success_rates = {}\n",
    "    \n",
    "    if options is None:\n",
    "        options = df[column].unique()\n",
    "    \n",
    "    for option in options:\n",
    "        \n",
    "        is_option = df[column] == option\n",
    "        value_counts = df.loc[is_option][success_column].value_counts().to_dict()\n",
    "        \n",
    "        successes = value_counts[1.0] if 1.0 in value_counts.keys() else 0\n",
    "        failures = value_counts[0.0] if 0.0 in value_counts.keys() else 0\n",
    "        \n",
    "        success_rate = (successes / (successes + failures))\n",
    "        success_rates[option] = success_rate\n",
    "                        \n",
    "    return success_rates\n"
   ]
  },
  {
   "cell_type": "markdown",
   "metadata": {},
   "source": [
    "If the aforementioned column is found to be significant to a project's success (i.e. the success rate differs considerably amongst the discrete values that column can take), to quantify the discrete values within this column (if they are non-numeric and non-Boolean), we can replace them with their respective success rates such that they can be processed by the numeric model. The following `insert_success_rates` function does exactly that. By taking a dataframe, the previously calculated success rates, and the column to match the provided success rates dictionary keys to, it adds the column's success rates to the dataframe."
   ]
  },
  {
   "cell_type": "code",
   "execution_count": 59,
   "metadata": {},
   "outputs": [],
   "source": [
    "def insert_success_rates(df, column, success_rates, drop_column=False):\n",
    "    \n",
    "    \"\"\"\n",
    "    Returns the dataframe with an extra \"{column}_success_rate\" column which is the corresponding\n",
    "    success rate (specified in the 'success_rates' dictionary) to the values in the specified column.\n",
    "    \"\"\"\n",
    "    \n",
    "    df_copy = df.copy()\n",
    "    column_name = \"{}_success_rate\".format(column)\n",
    "    \n",
    "    for option, success_rate in success_rates.items():\n",
    "        \n",
    "        is_option = df[column] == option\n",
    "        df_copy.loc[is_option, column_name] = success_rate\n",
    "        \n",
    "    if drop_column:\n",
    "        df_copy.drop(column, axis=1, inplace=True)\n",
    "        \n",
    "    return df_copy"
   ]
  },
  {
   "cell_type": "markdown",
   "metadata": {},
   "source": [
    "### Dropping inprocessable and redundant columns\n",
    "We drop at-first-glance redundant (i.e. those with no meaningful, extractable information) and unprocessable (i.e. those with non-Boolean or non-numeric values) columns."
   ]
  },
  {
   "cell_type": "code",
   "execution_count": 60,
   "metadata": {},
   "outputs": [],
   "source": [
    "columns_to_drop = [\n",
    "    'id', \n",
    "    'currency', \n",
    "    'currency_symbol', \n",
    "    'currency_trailing_code', \n",
    "    'source_url', \n",
    "    'photo', \n",
    "    'name', \n",
    "    'blurb', \n",
    "    'slug', \n",
    "    'profile'\n",
    "]\n",
    "\n",
    "X_train.drop(columns_to_drop, axis=1, inplace=True) "
   ]
  },
  {
   "cell_type": "markdown",
   "metadata": {},
   "source": [
    "At closer inspection, we can see that there are more redundant columns:\n",
    "- Every entry in the `\"is_starred\"` and `\"is_backing\"` columns is either `NaN` or `False`.\n",
    "- Every entry in the training dataframe for the `\"disable_communication\"` column is `False`.\n",
    "- Every entry in the `\"friends\"` and `\"permissions\"` columns is either `NaN` or `[]`.\n",
    "\n",
    "Therefore, we drop these columns."
   ]
  },
  {
   "cell_type": "code",
   "execution_count": 61,
   "metadata": {},
   "outputs": [],
   "source": [
    "columns_to_drop = [\n",
    "    'is_starred',\n",
    "    'is_backing',\n",
    "    'disable_communication',\n",
    "    'friends',\n",
    "    'permissions'\n",
    "]\n",
    "\n",
    "X_train.drop(columns_to_drop, axis=1, inplace=True) "
   ]
  },
  {
   "cell_type": "markdown",
   "metadata": {},
   "source": [
    "The `\"state\"` and `\"short_name\"` keys of the dictionaries found in the `\"location\"` column are too specific for success rates (as there are lots of places with only very few projects in them such that they may be given a skewed success rate). Therefore, we drop this column."
   ]
  },
  {
   "cell_type": "code",
   "execution_count": 62,
   "metadata": {},
   "outputs": [],
   "source": [
    "X_train.drop('location', axis=1, inplace=True)"
   ]
  },
  {
   "cell_type": "markdown",
   "metadata": {},
   "source": [
    "### Extracing information from the `\"category\"` column\n",
    "The `\"category\"` column values are all dictionaries (stored as JSON strings) with several keys. The only one of value is the `\"name\"` key which is linked to the name of the category. Since this a discrete value with a manageable 126 possible values, we can add the success rates for the category column. We then drop the now redundant `\"category\"` column."
   ]
  },
  {
   "cell_type": "code",
   "execution_count": 63,
   "metadata": {},
   "outputs": [
    {
     "name": "stdout",
     "output_type": "stream",
     "text": [
      "There are 126 unique categories.\n"
     ]
    }
   ],
   "source": [
    "# Replace the \"category\" column (JSON strings) with the included category names.\n",
    "X_train['category'] = X_train['category'].apply(lambda category: json.loads(category)['name'])\n",
    "\n",
    "# Calculate and print the number of unique categories in the \"category\" column.\n",
    "num_categories = len(X_train['category'].unique())\n",
    "print(\"There are {} unique categories.\".format(num_categories))\n",
    "\n",
    "# Calculate and insert the success rate for each category, and then drop the category column.\n",
    "category_success_rates = get_success_rates(X_train, 'category')\n",
    "X_train = insert_success_rates(X_train, 'category', category_success_rates)\n",
    "X_train.drop('category', axis=1, inplace=True)"
   ]
  },
  {
   "cell_type": "markdown",
   "metadata": {},
   "source": [
    "### Extracing information from the `\"country\"` column\n",
    "We can also do the exact same for the `\"country\"` column (where the country name is stored as a plaintext string). We can see there is a manageable number (21) of unique countries in the dataframe."
   ]
  },
  {
   "cell_type": "code",
   "execution_count": 64,
   "metadata": {},
   "outputs": [
    {
     "name": "stdout",
     "output_type": "stream",
     "text": [
      "There are 21 unique countries.\n"
     ]
    }
   ],
   "source": [
    "# Calculate and print the number of unique countries in the \"country\" column.\n",
    "num_countries = len(X_train['country'].unique())\n",
    "print(\"There are {} unique countries.\".format(num_countries))\n",
    "\n",
    "# Calculate and insert the success rate for each country, and then drop the \"country\" column.\n",
    "country_success_rates = get_success_rates(X_train, 'country')\n",
    "X_train = insert_success_rates(X_train, 'country', country_success_rates)\n",
    "X_train.drop('country', axis=1, inplace=True)"
   ]
  },
  {
   "cell_type": "markdown",
   "metadata": {},
   "source": [
    "### Removing outliers in the `\"goal_usd\"` column\n",
    "We can standardize the `\"goal\"` column values by converting them all to US dollars by multiplying the goal by what's in the `\"static_usd_rate\"` column."
   ]
  },
  {
   "cell_type": "code",
   "execution_count": 65,
   "metadata": {},
   "outputs": [],
   "source": [
    "# Convert all the goal amounts to USD. Then drop the \"static_usd_rate\" and original \"goal\" columnns\n",
    "X_train['goal_usd'] = X_train['goal'] * X_train['static_usd_rate']\n",
    "X_train.drop(['static_usd_rate', 'goal'], axis=1, inplace=True)"
   ]
  },
  {
   "cell_type": "markdown",
   "metadata": {},
   "source": [
    "We can confirm that the data is vastly lobsided towards the lower end of the `\"goal_usd\"` column by viewing the percentiles of the `\"goal_usd\"` column:"
   ]
  },
  {
   "cell_type": "code",
   "execution_count": 66,
   "metadata": {},
   "outputs": [
    {
     "data": {
      "text/plain": [
       "count    5.000000e+04\n",
       "mean     3.841545e+04\n",
       "std      1.177452e+06\n",
       "min      7.466057e-01\n",
       "0%       7.466057e-01\n",
       "5%       3.500000e+02\n",
       "10%      6.000000e+02\n",
       "15%      1.000000e+03\n",
       "20%      1.278383e+03\n",
       "25%      1.800000e+03\n",
       "30%      2.200000e+03\n",
       "35%      2.841973e+03\n",
       "40%      3.300000e+03\n",
       "45%      4.000000e+03\n",
       "50%      5.000000e+03\n",
       "55%      5.000000e+03\n",
       "60%      6.750000e+03\n",
       "65%      8.000000e+03\n",
       "70%      1.000000e+04\n",
       "75%      1.200000e+04\n",
       "80%      1.500000e+04\n",
       "85%      2.000000e+04\n",
       "90%      3.000000e+04\n",
       "95%      5.327200e+04\n",
       "max      1.523501e+08\n",
       "Name: goal_usd, dtype: float64"
      ]
     },
     "execution_count": 66,
     "metadata": {},
     "output_type": "execute_result"
    }
   ],
   "source": [
    "percentiles = np.arange(0.0, 1.0, 0.05)\n",
    "X_train['goal_usd'].describe(percentiles)"
   ]
  },
  {
   "cell_type": "markdown",
   "metadata": {},
   "source": [
    "Only 5% of the projects have a goal greater than $53272$ USD! Considering that the maximum goal is approxmiately $152$ million, we can safely remove the outliers towards the upper end of the `\"goals_usd\"` column. We can drop the rows with a goal greater than $30000$ USD or a goal less than $200$ USD to remove outliers that may skew the scaling of our model (as even a single huge outlier will make every single inlier goal value much less in proportion to the maximum value in the column, which is how our values are going to be scaled)."
   ]
  },
  {
   "cell_type": "markdown",
   "metadata": {},
   "source": [
    "To explore this further, we will plot a histrogram of the number of Kickstarter projects agaisnt their goals. To plot a frequency graph (i.e. a histogram) of the continuous values in the `\"goal_usd\"` column, we need to organise these values into bins (e.g. $1000 < 2000$ USD is a possible bin to group these goal values into bins for counting). The following `get_bins` function decides the bounds for these bins for a specified number of bins and an array of continuous values (e.g. goal values)."
   ]
  },
  {
   "cell_type": "code",
   "execution_count": 67,
   "metadata": {},
   "outputs": [],
   "source": [
    "def get_bins(values, n_bins=30):\n",
    "    \n",
    "    \"\"\"\n",
    "    Creates an array of bounds for 'n_bins' equally sized bins for the \n",
    "    continous variable in the 'values' pd.Series.\n",
    "    \"\"\"\n",
    "    \n",
    "    max_value = values.max()\n",
    "    min_value = values.min()\n",
    "    value_range = max_value - min_value\n",
    "\n",
    "    bins = list(np.arange(min_value, max_value, (value_range / n_bins)))\n",
    "    \n",
    "    return bins"
   ]
  },
  {
   "cell_type": "markdown",
   "metadata": {},
   "source": [
    "We can plot the number of Kickstarter projects *(y-axis)* vs the goal *(x-axis)* as a histrogram using this `get_bins` function to group these goal values into bins for counting. We can then restrict the limits for the goal values and drop the rows whose goals aren't within these limits. We can plot a new histogram to review the difference in the new dataframe without the goal outliers. We choose a logarithmic y-scale as the number of Kickstarter projects drastically changes with the goal values (i.e. by orders of magnititude!)."
   ]
  },
  {
   "cell_type": "code",
   "execution_count": 68,
   "metadata": {
    "scrolled": true
   },
   "outputs": [
    {
     "data": {
      "image/png": "[encoded data removed]",
      "text/plain": [
       "<Figure size 1008x288 with 2 Axes>"
      ]
     },
     "metadata": {
      "needs_background": "light"
     },
     "output_type": "display_data"
    }
   ],
   "source": [
    "X_train_old = X_train.copy()\n",
    "\n",
    "GOAL_UPPER_BOUND = 3.0e4\n",
    "GOAL_LOWER_BOUND = 2.0e2\n",
    "\n",
    "in_upper = X_train['goal_usd'] < GOAL_UPPER_BOUND\n",
    "in_lower = X_train['goal_usd'] > GOAL_LOWER_BOUND\n",
    "X_train = X_train.loc[in_upper & in_lower]\n",
    "\n",
    "titles = ['Before', 'After']\n",
    "fig, axs = plt.subplots(1, 2, figsize=(14,4))\n",
    "\n",
    "for idx, goals in enumerate([X_train_old['goal_usd'], X_train['goal_usd']]):\n",
    "    \n",
    "    bins = get_bins(goals)\n",
    "    axs[idx].hist(goals, bins=bins)\n",
    "    axs[idx].set_ylabel('Number of kickstarters (log)')\n",
    "    axs[idx].set_xlabel('Goal (USD)')\n",
    "    axs[idx].set_yscale('log')\n",
    "    axs[idx].set_title(titles[idx])\n",
    "    "
   ]
  },
  {
   "cell_type": "markdown",
   "metadata": {},
   "source": [
    "Much better! It is clear that our limiting of the `\"goal_usd\"` column has reduced its spread due to outliers. This will prevent skewing in the later scaling of the `\"goal_usd\"` column."
   ]
  },
  {
   "cell_type": "markdown",
   "metadata": {},
   "source": [
    "### Extracting information from the `\"urls\"` column"
   ]
  },
  {
   "cell_type": "markdown",
   "metadata": {},
   "source": [
    "The `\"urls\"` column contains values that are all dictionaries (stored as JSON strings). These dictionaries contain the URLs (and their types) relating to the project. My logic is that, the more URL types a project has, the more organised it must be and the more likely it is to succeed.  "
   ]
  },
  {
   "cell_type": "markdown",
   "metadata": {},
   "source": [
    "The following `get_urls` function below extracts the available URL types from a JSON string found in the `\"urls\"` column:"
   ]
  },
  {
   "cell_type": "code",
   "execution_count": 69,
   "metadata": {
    "scrolled": true
   },
   "outputs": [],
   "source": [
    "def get_urls(urls_string):\n",
    "    \n",
    "    \"\"\"\n",
    "    Returns a list of all the unique url types in a JSON string found in the \"urls\" column.\n",
    "    \"\"\"\n",
    "    \n",
    "    urls = []\n",
    "    urls_dict = json.loads(urls_string)\n",
    "    \n",
    "    for url, sub_urls in urls_dict.items():\n",
    "        \n",
    "        if url not in urls:\n",
    "            urls.append(url)\n",
    "        \n",
    "        for sub_url in sub_urls:\n",
    "            \n",
    "            if sub_url not in urls:\n",
    "                urls.append(sub_url)\n",
    "    \n",
    "    return np.array(urls)\n"
   ]
  },
  {
   "cell_type": "markdown",
   "metadata": {},
   "source": [
    "The following `get_df_urls` function essentially does the same thing, but for the whole `\"urls\"` column in a dataframe (essentially extracting all the possible unique URL types in a dataframe):"
   ]
  },
  {
   "cell_type": "code",
   "execution_count": 70,
   "metadata": {},
   "outputs": [],
   "source": [
    "def get_df_urls(df):\n",
    "    \n",
    "    \"\"\"\n",
    "    Returns a list of all the unique url types in an dataframe df.\n",
    "    \"\"\"\n",
    "    \n",
    "    df_copy = df.copy()\n",
    "    \n",
    "    unique_urls = []\n",
    "    urls_column = df_copy['urls'].apply(get_urls)\n",
    "    \n",
    "    for urls in urls_column.to_list():\n",
    "        \n",
    "        for url in urls:\n",
    "            \n",
    "            if url not in unique_urls:\n",
    "                \n",
    "                unique_urls.append(url)\n",
    "            \n",
    "    return unique_urls"
   ]
  },
  {
   "cell_type": "markdown",
   "metadata": {},
   "source": [
    "The following `add_url_features` function adds a column to the dataframe for each unique url type in that dataframe, describing whether the project in that row has that url_type available. Its functionality is dependent on those two defined above."
   ]
  },
  {
   "cell_type": "code",
   "execution_count": 71,
   "metadata": {},
   "outputs": [],
   "source": [
    "def add_url_features(df):\n",
    "    \n",
    "    \"\"\"\n",
    "    For each url type in a dataframe df, add a column 'has_{url_type}' that describes whether\n",
    "    the project had that url type available.\n",
    "    \"\"\"\n",
    "    \n",
    "    df_copy = df.copy()\n",
    "    \n",
    "    all_urls = get_df_urls(df)\n",
    "    urls_column = df_copy['urls'].apply(get_urls)\n",
    "    \n",
    "    for url in all_urls:\n",
    "        \n",
    "        column_name = \"has_{}\".format(url)\n",
    "        df_copy[column_name] = urls_column.apply(lambda urls: float(url in urls))\n",
    "    \n",
    "    df_copy.drop('urls', axis=1, inplace=True)\n",
    "    \n",
    "    return df_copy\n"
   ]
  },
  {
   "cell_type": "markdown",
   "metadata": {},
   "source": [
    "We can now add these url features discussed above:"
   ]
  },
  {
   "cell_type": "code",
   "execution_count": 72,
   "metadata": {},
   "outputs": [
    {
     "name": "stdout",
     "output_type": "stream",
     "text": [
      "The unique url types found in the dataframe are: web, project, rewards, message_creator, api, star.\n"
     ]
    },
    {
     "data": {
      "text/plain": [
       "has_project  has_rewards  has_web  has_message_creator  has_star  has_api\n",
       "1.0          1.0          1.0      0.0                  0.0       0.0        43125\n",
       "                                   1.0                  1.0       1.0            3\n",
       "dtype: int64"
      ]
     },
     "execution_count": 72,
     "metadata": {},
     "output_type": "execute_result"
    }
   ],
   "source": [
    "X_train = add_url_features(X_train)\n",
    "print(\"The unique url types found in the dataframe are: {}.\".format(\", \".join(get_df_urls(df))))\n",
    "X_train[['has_project', 'has_rewards', 'has_web', 'has_message_creator', 'has_star', 'has_api']].value_counts()"
   ]
  },
  {
   "cell_type": "markdown",
   "metadata": {},
   "source": [
    "However, it seems that every project has a `\"project\"`, `\"rewards\"` and `\"web\"` URL type such that they are redundant. Additionally, the `\"has_message_creator\"`, `\"has_star\"` and `\"has_api\"` columns seem to be mutually inclusive, and there are only 3 projects that have have these URL types. This may a strong indicator for these 3 projects succeeding, but can only be applied for this very small set of projects. It seems that the features we engineered from the `\"urls\"` column are all redundant and can thus be dropped. We will not include this feature in the final version of the model."
   ]
  },
  {
   "cell_type": "code",
   "execution_count": 73,
   "metadata": {},
   "outputs": [],
   "source": [
    "columns_to_drop = [\n",
    "    'has_project', \n",
    "    'has_rewards', \n",
    "    'has_web', \n",
    "    'has_message_creator', \n",
    "    'has_star'\n",
    "]\n",
    "\n",
    "X_train.drop(columns_to_drop, axis=1, inplace=True)"
   ]
  },
  {
   "cell_type": "markdown",
   "metadata": {},
   "source": [
    "### Extracting information from the `\"creator\"` column\n",
    "\n",
    "The only noticeable key that is not included in all the dictionaries (stored as JSON strings) in the `\"creator\"` column is the `\"slug\"` key. Google, like me, does not seem to know what a \"slug\" actually *is*. Nevertheless, by creating a `\"has_slug\"` column in the dataframe (describing whether the creator has provided a slug) we can see, using the aforementioned `get_success_rates` function, that the prescence of this slug actually makes a noticeable difference in the success of the project! We then also drop the original, now redundant, `\"creator\"` column."
   ]
  },
  {
   "cell_type": "code",
   "execution_count": 74,
   "metadata": {},
   "outputs": [
    {
     "name": "stdout",
     "output_type": "stream",
     "text": [
      "Proportion of projects without a slug that succeeded: 0.479.\n",
      "Proportion of projects with a slug that succeeded: 0.628.\n"
     ]
    }
   ],
   "source": [
    "X_train['has_slug'] = X_train['creator'].apply(lambda creator: float('slug' in json.loads(creator).keys()))\n",
    "X_train.drop('creator', axis=1, inplace=True)\n",
    "success_rates = get_success_rates(X_train, 'has_slug')\n",
    "\n",
    "print(\"Proportion of projects without a slug that succeeded: {:.3f}.\".format(success_rates[0.0]))\n",
    "print(\"Proportion of projects with a slug that succeeded: {:.3f}.\".format(success_rates[1.0]))"
   ]
  },
  {
   "cell_type": "markdown",
   "metadata": {},
   "source": [
    "### Extracting information from the `\"launched_at\"`, `\"created_at\"` and `\"deadline\"` columns\n",
    "To determine whether the time from a project's launch to creation, launch to deadline, and creation to deadline affects the success of a project, we can add columns to the dataframe depicting the quanities listed above. We can then plot a histogram of the proportion and number of projects that succeeded *(y-axis)* agaisnt these continous quanities *(x-axis)* (using bins to group them) to visualise this effect."
   ]
  },
  {
   "cell_type": "code",
   "execution_count": 75,
   "metadata": {},
   "outputs": [],
   "source": [
    "X_train['creation_to_launch'] = X_train['launched_at'] - X_train['created_at']\n",
    "X_train['creation_to_deadline'] = X_train['deadline'] - X_train['created_at']\n",
    "X_train['launch_to_deadline'] = X_train['deadline'] - X_train['launched_at']"
   ]
  },
  {
   "cell_type": "markdown",
   "metadata": {},
   "source": [
    "The following `plot_bins` function does exactly this. For each column specified in the provided dataframe, it groups the column's continuous values using the aforementioned `get_bins` function and, if the `do_success_rate` parameter is true, plots a histogram of the proportion of projects in each bin that succeeded *(y-axis)* against these continuous values *(x-axis)*. If `do_success_rate` is explicity set to false, the y-axis will instead depict the number of projects that succeeded in a bin (as opposed to the proportion)."
   ]
  },
  {
   "cell_type": "code",
   "execution_count": 76,
   "metadata": {},
   "outputs": [],
   "source": [
    "def plot_bins(df, columns, n_bins, do_success_rate=True):\n",
    "    \n",
    "    \"\"\"\n",
    "    For each of the columns in the dataframe specified, if do_success_rate is true, draw a histogram\n",
    "    subplot of the success rate (y-axis) vs the continuous values column (x-axis). If not, the histogram subplot\n",
    "    plots the number of successes (y-axis) vs the column (x-axis). The continuous values in the column\n",
    "    are grouped into \"n_bins\" bins.\n",
    "    \"\"\"\n",
    "    \n",
    "    len_columns = len(columns)\n",
    "    fig, axs = plt.subplots(1, len_columns, figsize=(14,4))\n",
    "    fig.tight_layout(pad=4.0)\n",
    "    \n",
    "    for idx, column in enumerate(columns):\n",
    "        \n",
    "        column_values = df[column]\n",
    "        bins = get_bins(column_values, n_bins)\n",
    "        heights = []\n",
    "        \n",
    "        start = column_values.min()\n",
    "        end = column_values.max()\n",
    "        width = (start - end) / n_bins\n",
    "\n",
    "        for n_bin in range(0, n_bins-1):\n",
    "\n",
    "            in_lower = df[column] >= bins[n_bin]\n",
    "            in_upper = df[column] <= bins[n_bin+1]\n",
    "\n",
    "            value_counts = df.loc[in_lower & in_upper]['state'].value_counts().to_dict()\n",
    "            \n",
    "            successes = value_counts[1.0] if 1.0 in value_counts.keys() else 0\n",
    "            \n",
    "            if do_success_rate:\n",
    "                \n",
    "                failures = value_counts[0.0] if 0.0 in value_counts.keys() else 0\n",
    "\n",
    "                if successes == 0 and failures == 0:\n",
    "                    heights.append(0)\n",
    "                \n",
    "                else:\n",
    "                    \n",
    "                    success_rate = successes / (successes + failures)\n",
    "                    heights.append(success_rate)\n",
    "                    \n",
    "            else:\n",
    "                \n",
    "                heights.append(successes)\n",
    "        \n",
    "        if len_columns > 1:\n",
    "            \n",
    "            axs[idx].set_ylabel('success_rate' if do_success_rate else 'number of successes')\n",
    "            axs[idx].set_xlabel(column)\n",
    "            axs[idx].bar(bins[:-1], heights, width=width)\n",
    "            \n",
    "        else: \n",
    "            \n",
    "            axs.set_ylabel('success_rate' if do_success_rate else 'number of successes')\n",
    "            axs.set_xlabel(column)\n",
    "            axs.bar(bins[:-1], heights, width=width)\n",
    "            "
   ]
  },
  {
   "cell_type": "markdown",
   "metadata": {},
   "source": [
    "We can now create histograms reagarding the quanities we just created:"
   ]
  },
  {
   "cell_type": "code",
   "execution_count": 77,
   "metadata": {},
   "outputs": [
    {
     "data": {
      "image/png": "[encoded data removed]",
      "text/plain": [
       "<Figure size 1008x288 with 3 Axes>"
      ]
     },
     "metadata": {
      "needs_background": "light"
     },
     "output_type": "display_data"
    },
    {
     "data": {
      "image/png": "[encoded data removed]",
      "text/plain": [
       "<Figure size 1008x288 with 3 Axes>"
      ]
     },
     "metadata": {
      "needs_background": "light"
     },
     "output_type": "display_data"
    }
   ],
   "source": [
    "N_BINS = 30\n",
    "\n",
    "plot_bins(X_train, ['creation_to_launch', 'creation_to_deadline', 'launch_to_deadline'], \\\n",
    "          N_BINS)\n",
    "plot_bins(X_train, ['creation_to_launch', 'creation_to_deadline', 'launch_to_deadline'], \\\n",
    "          N_BINS, do_success_rate=False)"
   ]
  },
  {
   "cell_type": "markdown",
   "metadata": {},
   "source": [
    "Unfortunately, there does not seem do be any significant correlation between these quantities and the success rate of projects (apart from the success rate becoming more erratic near the higher, less common values). Therefore, we can drop these redundant quantities."
   ]
  },
  {
   "cell_type": "code",
   "execution_count": 78,
   "metadata": {},
   "outputs": [],
   "source": [
    "X_train.drop(['creation_to_launch', 'creation_to_deadline', 'launch_to_deadline'], axis=1, inplace=True)"
   ]
  },
  {
   "cell_type": "markdown",
   "metadata": {},
   "source": [
    "### Assessing the effect of the `\"created_at\"`,  `\"launched_at\"`,  `\"deadline\"` and `\"goal_usd\"` columns"
   ]
  },
  {
   "cell_type": "markdown",
   "metadata": {},
   "source": [
    "We can now also plot histograms of the proportion and number of projects that succeeded against the time of launch, creation and deadline:"
   ]
  },
  {
   "cell_type": "code",
   "execution_count": 79,
   "metadata": {},
   "outputs": [
    {
     "data": {
      "image/png": "[encoded data removed]",
      "text/plain": [
       "<Figure size 1008x288 with 3 Axes>"
      ]
     },
     "metadata": {
      "needs_background": "light"
     },
     "output_type": "display_data"
    },
    {
     "data": {
      "image/png": "[encoded data removed]",
      "text/plain": [
       "<Figure size 1008x288 with 3 Axes>"
      ]
     },
     "metadata": {
      "needs_background": "light"
     },
     "output_type": "display_data"
    }
   ],
   "source": [
    "N_BINS = 100\n",
    "\n",
    "plot_bins(X_train, ['created_at', 'launched_at', 'deadline'], N_BINS, do_success_rate=True)\n",
    "plot_bins(X_train, ['created_at', 'launched_at', 'deadline'], N_BINS, do_success_rate=False)"
   ]
  },
  {
   "cell_type": "markdown",
   "metadata": {},
   "source": [
    "We can see there is a considerable negative correlation between the success rate and the time of launch/creation/deadline. It seems the number of successful Kickstarter projects has peaked and is rapidly declining, and that the success rate of projects has recently dipped. However, the 3 histograms on each row display very similar information such that the `\"created_at\"` and `\"deadline\"` columns can be dropped in favour of the `\"launched_at\"` column (which displays the same information and has the greatest aforementioned dip in success rate)."
   ]
  },
  {
   "cell_type": "code",
   "execution_count": 80,
   "metadata": {},
   "outputs": [],
   "source": [
    "X_train.drop(['created_at', 'deadline'], axis=1, inplace=True)"
   ]
  },
  {
   "cell_type": "markdown",
   "metadata": {},
   "source": [
    "We can now also plot histograms of the proportion and number of projects that succeeded against the goal:"
   ]
  },
  {
   "cell_type": "code",
   "execution_count": 81,
   "metadata": {},
   "outputs": [
    {
     "data": {
      "image/png": "[encoded data removed]",
      "text/plain": [
       "<Figure size 1008x288 with 1 Axes>"
      ]
     },
     "metadata": {
      "needs_background": "light"
     },
     "output_type": "display_data"
    },
    {
     "data": {
      "image/png": "[encoded data removed]",
      "text/plain": [
       "<Figure size 1008x288 with 1 Axes>"
      ]
     },
     "metadata": {
      "needs_background": "light"
     },
     "output_type": "display_data"
    }
   ],
   "source": [
    "N_BINS = 200\n",
    "plot_bins(X_train, ['goal_usd'], N_BINS)\n",
    "plot_bins(X_train, ['goal_usd'], N_BINS, do_success_rate=False)"
   ]
  },
  {
   "cell_type": "markdown",
   "metadata": {},
   "source": [
    "The proportion and number of projects that have succeeded becomes more erratic and very gradually decreases as the goal increases. On the second graph, we can see a surge in projects with a goal at a round thousand numbers of USD (e.g. at $5000$ USD, $10000$ USD, $15000$ USD and so on). This slight negative linear correlation convinces us to keep the `\"goal_usd\"` column."
   ]
  },
  {
   "cell_type": "markdown",
   "metadata": {},
   "source": [
    "### Creating the final `preprocess` function"
   ]
  },
  {
   "cell_type": "markdown",
   "metadata": {},
   "source": [
    "We now seek to combine all the transformations to the original dataframe listed above into one, final, `preprocess` function that takes in the original, unsplit and raw dataframe and returns feature engineered and preprocessed dataframes `X` and `X_eval`, as well as the desired output series, `y`. This function cannot have any dependencies on globally defined functions or variables as it must be pasted, by itself, into the web IDE. Therefore, we must copy some of the existing functions into it for this condition to be met."
   ]
  },
  {
   "cell_type": "markdown",
   "metadata": {},
   "source": [
    "Firstly, we need to create a `feature_engineer` function which applies all the endorsed transformations discovered above to a dataframe and then scales it accordingly. However, for the model to give consistent predictions, the evaluation dataframe must be scaled based off the MinMaxScaler object produced when scaling the training dataframe. Therefore, the function must have an option to apply a previously created scaler, or return the MinMaxScaler object created if one isn't provided. "
   ]
  },
  {
   "cell_type": "markdown",
   "metadata": {},
   "source": [
    "Additionally, to ensure the scaled values in the `\"goal_usd\"` column are not skewed by the outliers, the scaler is created for the cleaned training dataframe (i.e. the dataframe with the goal outliers removed), then applied to the full training dataframe. Although this will create a few scaled values in the `\"goal_usd\"` column in the full training dataframe that are greater than $1$ (as the maximum goal value in the full training dataframe is much greater than the cleaned training dataframe), this effect is outweighed by the large majority of inlying goal values in the full testing dataframe that will now be appropriately scaled in relation to one another."
   ]
  },
  {
   "cell_type": "code",
   "execution_count": 82,
   "metadata": {},
   "outputs": [],
   "source": [
    "def feature_engineer(df, drop_outliers=False, scaler=None):\n",
    "    \n",
    "    \"\"\"\n",
    "    Applies all the feature engineering and preprocessing functions applied above to a dataframe,\n",
    "    then scales it according to whether a previously created scaler object is provided.\n",
    "    \n",
    "    Returns the following array:\n",
    "    [\n",
    "        <pd.Dataframe>, \n",
    "        <pd.Series (\"state\" column of dataframe)>, \n",
    "        <MinMaxScaler (scaler object, if one is created)>\n",
    "    ]\n",
    "    \"\"\"\n",
    "    \n",
    "    df_copy = df.copy()\n",
    "    \n",
    "    # Removing redundant or unprocessable columns.\n",
    "    columns_to_keep = [\n",
    "        'goal', \n",
    "        'country',\n",
    "        'launched_at', \n",
    "        'static_usd_rate', \n",
    "        'creator', \n",
    "        'category',\n",
    "        'state'\n",
    "    ]\n",
    "    df_copy = df_copy[columns_to_keep]\n",
    "    \n",
    "    # \"goal\" column feature engineering and preprocessing.\n",
    "    df_copy['goal_usd'] = df_copy['goal'] * df_copy['static_usd_rate']\n",
    "    df_copy.drop(['static_usd_rate', 'goal'], axis=1, inplace=True)\n",
    "    \n",
    "    # Drop rows with outliers in the \"goal_usd\" column.\n",
    "    if drop_outliers == True:\n",
    "        \n",
    "        GOAL_UPPER_BOUND = 3.0e4\n",
    "        GOAL_LOWER_BOUND = 2.0e2\n",
    "        \n",
    "        in_upper = df_copy['goal_usd'] < GOAL_UPPER_BOUND\n",
    "        in_lower = df_copy['goal_usd'] > GOAL_LOWER_BOUND\n",
    "\n",
    "        df_copy = df_copy.loc[in_upper & in_lower]\n",
    "    \n",
    "    # \"creator\" column feature engineering and preprocessing.\n",
    "    df_copy['has_slug'] = df_copy['creator'].apply(lambda creator: float('slug' in json.loads(creator).keys()))\n",
    "    df_copy.drop('creator', axis=1, inplace=True)\n",
    "    \n",
    "    # \"category\" column feature engineering and preprocessing.\n",
    "    df_copy['category'] = df_copy['category'].apply(lambda category: json.loads(category)['name'])\n",
    "    df_copy = insert_success_rates(df_copy, 'category', category_success_rates, drop_column=True)\n",
    "    \n",
    "    # \"country\" column feature engineering and preprocessing.\n",
    "    df_copy = insert_success_rates(df_copy, 'country', country_success_rates, drop_column=True)\n",
    "    \n",
    "    # After dropping outlying rows, create the 'y' pd.Series from the dataframe's \"state\" column.\n",
    "    y = df_copy['state']\n",
    "    df_copy.drop('state', axis=1, inplace=True)   \n",
    "    return_array = [y]\n",
    "        \n",
    "    # Scale the dataframe. If a scaler object is provided, use that to scale the dataframe.\n",
    "    # Otherwise, create and fit a MinMaxScaler object and use that to scale the dataframe.\n",
    "    if scaler is None:\n",
    "        scaler = MinMaxScaler()\n",
    "        df_copy = pd.DataFrame(scaler.fit_transform(df_copy), columns=df_copy.columns)\n",
    "        return_array.append(scaler)\n",
    "        \n",
    "    else:\n",
    "        df_copy = pd.DataFrame(scaler.transform(df_copy), columns=df_copy.columns)\n",
    "            \n",
    "    return_array.insert(0, df_copy)\n",
    "    \n",
    "    return tuple(return_array)\n"
   ]
  },
  {
   "cell_type": "markdown",
   "metadata": {},
   "source": [
    "We can now implement this function, its dependencies (e.g. `insert_success_rates` and `get_success_rates`) and the `train_eval_split` function into one, lengthy `preprocess` function, where a dataframe is split into testing and evaluation dataframes, which are then appropriately preprocessed, feature engineered and scaled."
   ]
  },
  {
   "cell_type": "code",
   "execution_count": 83,
   "metadata": {},
   "outputs": [],
   "source": [
    "def preprocess(df):\n",
    "    \n",
    "    def train_eval_split(df):\n",
    "        \n",
    "        df_copy = df.copy()\n",
    "\n",
    "        evaluate_mask = df_copy['evaluation_set']\n",
    "\n",
    "        X_eval = df_copy.loc[evaluate_mask].iloc[:, :-1]\n",
    "        X_train = df_copy.loc[~evaluate_mask].iloc[:, :-1]\n",
    "\n",
    "        return X_train, X_eval\n",
    "    \n",
    "    def get_success_rates(df, column, options=None, success_column='state'):\n",
    "    \n",
    "        success_rates = {}\n",
    "\n",
    "        if options is None:\n",
    "            options = df[column].unique()\n",
    "\n",
    "        for option in options:\n",
    "\n",
    "            is_option = df[column] == option\n",
    "            value_counts = df.loc[is_option][success_column].value_counts().to_dict()\n",
    "\n",
    "            successes = value_counts[1.0] if 1.0 in value_counts.keys() else 0\n",
    "            failures = value_counts[0.0] if 0.0 in value_counts.keys() else 0\n",
    "\n",
    "            success_rate = (successes / (successes + failures))\n",
    "            success_rates[option] = success_rate\n",
    "\n",
    "        return success_rates\n",
    "    \n",
    "    def insert_success_rates(df, column, success_rates, drop_column=False):\n",
    "    \n",
    "        df_copy = df.copy()\n",
    "        column_name = \"{}_success_rate\".format(column)\n",
    "\n",
    "        for option, success_rate in success_rates.items():\n",
    "\n",
    "            is_option = df[column] == option\n",
    "            df_copy.loc[is_option, column_name] = success_rate\n",
    "\n",
    "        if drop_column:\n",
    "            df_copy.drop(column, axis=1, inplace=True)\n",
    "\n",
    "        return df_copy\n",
    "    \n",
    "    def feature_engineer(df, drop_outliers=False, scaler=None):\n",
    "\n",
    "        df_copy = df.copy()\n",
    "        columns_to_keep = [\n",
    "            'goal', \n",
    "            'country',\n",
    "            'launched_at', \n",
    "            'static_usd_rate', \n",
    "            'creator', \n",
    "            'category',\n",
    "            'state'\n",
    "        ]\n",
    "        df_copy = df_copy[columns_to_keep]\n",
    "\n",
    "        df_copy['goal_usd'] = df_copy['goal'] * df_copy['static_usd_rate']\n",
    "        df_copy.drop(['static_usd_rate', 'goal'], axis=1, inplace=True)\n",
    "\n",
    "        if drop_outliers == True:\n",
    "\n",
    "            GOAL_UPPER_BOUND = 3.0e4\n",
    "            GOAL_LOWER_BOUND = 2.0e2\n",
    "\n",
    "            in_upper = df_copy['goal_usd'] < GOAL_UPPER_BOUND\n",
    "            in_lower = df_copy['goal_usd'] > GOAL_LOWER_BOUND\n",
    "\n",
    "            df_copy = df_copy.loc[in_upper & in_lower]\n",
    "\n",
    "        df_copy['has_slug'] = df_copy['creator'].apply(lambda creator: float('slug' in json.loads(creator).keys()))\n",
    "        df_copy.drop('creator', axis=1, inplace=True)\n",
    "\n",
    "        df_copy['category'] = df_copy['category'].apply(lambda category: json.loads(category)['name'])\n",
    "        df_copy = insert_success_rates(df_copy, 'category', category_success_rates, drop_column=True)\n",
    "\n",
    "        df_copy = insert_success_rates(df_copy, 'country', country_success_rates, drop_column=True)\n",
    "\n",
    "        y = df_copy['state']\n",
    "        df_copy.drop('state', axis=1, inplace=True)   \n",
    "        return_array = [y]\n",
    "\n",
    "        if scaler is None:\n",
    "            scaler = MinMaxScaler()\n",
    "            df_copy = pd.DataFrame(scaler.fit_transform(df_copy), columns=df_copy.columns)\n",
    "            return_array.append(scaler)\n",
    "\n",
    "        else:\n",
    "            df_copy = pd.DataFrame(scaler.transform(df_copy), columns=df_copy.columns)\n",
    "\n",
    "        return_array.insert(0, df_copy)\n",
    "\n",
    "        return tuple(return_array)\n",
    "    \n",
    "    # Split the dataframe into testing and evaluation dataframes.\n",
    "    X_train, X_eval = train_eval_split(df)\n",
    "    \n",
    "    # Create a temporary training dataframe copy to use for retrieveal of the country and category success rates.\n",
    "    X_temp = X_train.copy()[['country', 'category', 'state']]\n",
    "    \n",
    "    # Calculate and define the country_success_rates global variable.\n",
    "    country_success_rates = get_success_rates(X_temp, 'country')\n",
    "    \n",
    "    # Calculate and define the category_success_rates global variable.\n",
    "    X_temp['category'] = X_temp['category'].apply(lambda category: json.loads(category)['name'])\n",
    "    category_success_rates = get_success_rates(X_temp, 'category')\n",
    "    \n",
    "    # Create a scaler object that isn't skewed by outliers by feature engineering the cleaned training dataframe\n",
    "    # (i.e. with the drop_outliers option set to True).\n",
    "    _, _, scaler = feature_engineer(X_train, drop_outliers=True)\n",
    "    \n",
    "    # Apply this scaler object to both the full training and evaluation dataframes (i.e. with the drop_outliers\n",
    "    # option implicity set to False), creating appropriately scaled, 'X', 'X_eval' dataframes and a 'y' series.\n",
    "    X, y = feature_engineer(X_train, scaler=scaler)\n",
    "    X_eval, _ = feature_engineer(X_eval, scaler=scaler)\n",
    "    \n",
    "    return X, y, X_eval\n"
   ]
  },
  {
   "cell_type": "markdown",
   "metadata": {},
   "source": [
    "## Creating and Training a Logistic Regression Model"
   ]
  },
  {
   "cell_type": "markdown",
   "metadata": {},
   "source": [
    "### Creating the final `train` function"
   ]
  },
  {
   "cell_type": "markdown",
   "metadata": {},
   "source": [
    "The following `train` function trains a logisitic regression model on the provided training data (consisting of an `X` training dataframe and a `y` series of desired binary outputs). It returns this fitted model as an sklearn `LogisticRegression` object."
   ]
  },
  {
   "cell_type": "code",
   "execution_count": 84,
   "metadata": {},
   "outputs": [],
   "source": [
    "def train(X, y):\n",
    "    \n",
    "    model = LogisticRegression()\n",
    "    model.fit(X, y)\n",
    "    return model"
   ]
  },
  {
   "cell_type": "markdown",
   "metadata": {},
   "source": [
    "### Creating the final `predict` function"
   ]
  },
  {
   "cell_type": "markdown",
   "metadata": {},
   "source": [
    "The following `predict` function takes a trained model, `model`, and use its `predict` method to predict the outputs for each row of the provided `X_eval` evaluation dataframe. It returns a series, `y_pred`, of these predictions."
   ]
  },
  {
   "cell_type": "code",
   "execution_count": 85,
   "metadata": {},
   "outputs": [],
   "source": [
    "def predict(model, X_eval):\n",
    "    \n",
    "    y_pred = model.predict(X_eval)\n",
    "    return y_pred"
   ]
  },
  {
   "cell_type": "markdown",
   "metadata": {},
   "source": [
    "### Evaluating the model"
   ]
  },
  {
   "cell_type": "markdown",
   "metadata": {},
   "source": [
    "We can now run all our previously defined final functions to preprocess and feature-engineer our data, train a logistic regression model on it, and then use that model to predict the values in the missing `\"state\"` column in the `\"X_eval\"` dataframe."
   ]
  },
  {
   "cell_type": "code",
   "execution_count": 86,
   "metadata": {},
   "outputs": [],
   "source": [
    "X, y, X_eval = preprocess(df)\n",
    "model = train(X, y)\n",
    "y_pred = predict(model, X_eval)"
   ]
  },
  {
   "cell_type": "markdown",
   "metadata": {},
   "source": [
    "Given the absence of correct y-values for the evaluation dataframe, we can evaluate how our model performs on our training dataframe and output series:"
   ]
  },
  {
   "cell_type": "code",
   "execution_count": 87,
   "metadata": {},
   "outputs": [
    {
     "name": "stdout",
     "output_type": "stream",
     "text": [
      "Model R2 score: 0.71148 \n",
      "\n",
      "Model classification report: \n",
      "\n",
      "               precision    recall  f1-score   support\n",
      "\n",
      "         0.0       0.69      0.77      0.73     25121\n",
      "         1.0       0.74      0.65      0.69     24879\n",
      "\n",
      "    accuracy                           0.71     50000\n",
      "   macro avg       0.71      0.71      0.71     50000\n",
      "weighted avg       0.71      0.71      0.71     50000\n",
      "\n"
     ]
    }
   ],
   "source": [
    "y_pred = predict(model, X)\n",
    "print(\"Model R2 score: {} \\n\".format(model.score(X, y)))\n",
    "print(\"Model classification report: \\n\\n\", classification_report(y, y_pred))"
   ]
  },
  {
   "cell_type": "markdown",
   "metadata": {},
   "source": [
    "- **Precision**  Proportion of predictions that result in this type that were correct (i.e. TP / FP + TP).\n",
    "- **Recall**: Proportion of predictions that are actually this type that were predicted correct (i.e. TP / TP + FN).\n",
    "\n",
    "Not bad! Our model can predict whether projects in our training dataframe have succeeded to a 71% accuracy level."
   ]
  },
  {
   "cell_type": "markdown",
   "metadata": {},
   "source": [
    "### Bonus: Keras feedforward neural network model"
   ]
  },
  {
   "cell_type": "markdown",
   "metadata": {},
   "source": [
    "As an alternative to the sklearn logistic regression model, we can compile and train a feedforward neural network model using Keras (using its `Sequential` model object). We define 5 input nodes in the input layer, 32 hidden nodes in the first hidden layer, 16 hidden nodes in the second hidden layer, and 1 output node in the output layer. The hidden layer nodes have the `'relu'` activation function, and the output node has a `'sigmoid'` activation function to confine the output between 0 and 1. We use a `'binary_crossentropy'` loss function as this is a binary classification problem and an `'adam'` optimiser (a personal preference)."
   ]
  },
  {
   "cell_type": "code",
   "execution_count": 88,
   "metadata": {},
   "outputs": [],
   "source": [
    "from tensorflow.keras import Sequential\n",
    "from tensorflow.keras.layers import Dense"
   ]
  },
  {
   "cell_type": "code",
   "execution_count": 89,
   "metadata": {},
   "outputs": [],
   "source": [
    "model = Sequential()\n",
    "model.add(Dense(32, activation='relu', input_dim=5))\n",
    "model.add(Dense(16, activation='relu'))\n",
    "model.add(Dense(1, activation='sigmoid'))\n",
    "model.compile(optimizer='adam', loss='binary_crossentropy', metrics=['accuracy'])"
   ]
  },
  {
   "cell_type": "code",
   "execution_count": 90,
   "metadata": {},
   "outputs": [
    {
     "data": {
      "text/plain": [
       "<tensorflow.python.keras.callbacks.History at 0x7f2f2c7226d0>"
      ]
     },
     "execution_count": 90,
     "metadata": {},
     "output_type": "execute_result"
    }
   ],
   "source": [
    "model.fit(X, y, epochs=200, verbose=False)"
   ]
  },
  {
   "cell_type": "code",
   "execution_count": 91,
   "metadata": {},
   "outputs": [
    {
     "name": "stdout",
     "output_type": "stream",
     "text": [
      "Training Accuracy: 72.52%\n",
      "\n"
     ]
    }
   ],
   "source": [
    "scores = model.evaluate(X, y, verbose=False)\n",
    "print(\"Training Accuracy: %.2f%%\\n\" % (scores[1]*100))"
   ]
  },
  {
   "cell_type": "markdown",
   "metadata": {},
   "source": [
    "Our Keras `Sequential` model has an accuracy of approximately 73% when predicting whether projects have succeeded in our training dataframe. A very slight improvement given the significant increase in time when training this model. Therefore, for our final model, we will stick with the sklearn logistic regression model."
   ]
  }
 ],
 "metadata": {
  "kernelspec": {
   "display_name": "Python 3",
   "language": "python",
   "name": "python3"
  },
  "language_info": {
   "codemirror_mode": {
    "name": "ipython",
    "version": 3
   },
   "file_extension": ".py",
   "mimetype": "text/x-python",
   "name": "python",
   "nbconvert_exporter": "python",
   "pygments_lexer": "ipython3",
   "version": "3.7.6"
  }
 },
 "nbformat": 4,
 "nbformat_minor": 4
}
